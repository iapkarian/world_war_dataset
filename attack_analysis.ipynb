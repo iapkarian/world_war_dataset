{
 "cells": [
  {
   "cell_type": "code",
   "execution_count": 1,
   "metadata": {
    "collapsed": true
   },
   "outputs": [],
   "source": [
    "import pandas as pd\n",
    "from ggplot import *\n",
    "import numpy as np\n",
    "%matplotlib inline\n",
    "\n",
    "# Set ipython's max row display\n",
    "pd.set_option('display.max_row', 1000)\n",
    "\n",
    "# Set iPython's max column width to 50\n",
    "pd.set_option('display.max_columns', 50)"
   ]
  },
  {
   "cell_type": "code",
   "execution_count": 2,
   "metadata": {
    "collapsed": false
   },
   "outputs": [],
   "source": [
    "df = pd.read_csv('world_war.csv')"
   ]
  },
  {
   "cell_type": "markdown",
   "metadata": {},
   "source": [
    "# Quick glance at the data"
   ]
  },
  {
   "cell_type": "code",
   "execution_count": 3,
   "metadata": {
    "collapsed": false
   },
   "outputs": [
    {
     "data": {
      "text/html": [
       "<div style=\"max-height:1000px;max-width:1500px;overflow:auto;\">\n",
       "<table border=\"1\" class=\"dataframe\">\n",
       "  <thead>\n",
       "    <tr style=\"text-align: right;\">\n",
       "      <th></th>\n",
       "      <th>Name</th>\n",
       "      <th>Year</th>\n",
       "      <th>Assaulter</th>\n",
       "      <th>Defender</th>\n",
       "      <th>Assaulter_1</th>\n",
       "      <th>Defender_1</th>\n",
       "      <th>Assaulter_strength</th>\n",
       "      <th>Defender_strength</th>\n",
       "      <th>Outcome</th>\n",
       "    </tr>\n",
       "  </thead>\n",
       "  <tbody>\n",
       "    <tr>\n",
       "      <th>0</th>\n",
       "      <td>          Baltic Operation</td>\n",
       "      <td> 1941</td>\n",
       "      <td> Nazi Germany</td>\n",
       "      <td> Soviet Union</td>\n",
       "      <td>     NaN</td>\n",
       "      <td>NaN</td>\n",
       "      <td> 787 500</td>\n",
       "      <td> 498 000</td>\n",
       "      <td>  win</td>\n",
       "    </tr>\n",
       "    <tr>\n",
       "      <th>1</th>\n",
       "      <td> Battle of Bialystok–Minsk</td>\n",
       "      <td> 1941</td>\n",
       "      <td> Nazi Germany</td>\n",
       "      <td> Soviet Union</td>\n",
       "      <td>     NaN</td>\n",
       "      <td>NaN</td>\n",
       "      <td> 750 000</td>\n",
       "      <td> 675 000</td>\n",
       "      <td>  win</td>\n",
       "    </tr>\n",
       "    <tr>\n",
       "      <th>2</th>\n",
       "      <td>           Battle of Brody</td>\n",
       "      <td> 1941</td>\n",
       "      <td> Nazi Germany</td>\n",
       "      <td> Soviet Union</td>\n",
       "      <td>     NaN</td>\n",
       "      <td>NaN</td>\n",
       "      <td>     750</td>\n",
       "      <td>    3500</td>\n",
       "      <td>  win</td>\n",
       "    </tr>\n",
       "    <tr>\n",
       "      <th>3</th>\n",
       "      <td>           Battle of Hanko</td>\n",
       "      <td> 1941</td>\n",
       "      <td> Nazi Germany</td>\n",
       "      <td> Soviet Union</td>\n",
       "      <td> Finland</td>\n",
       "      <td>NaN</td>\n",
       "      <td>  25 300</td>\n",
       "      <td>  30 000</td>\n",
       "      <td> loss</td>\n",
       "    </tr>\n",
       "    <tr>\n",
       "      <th>4</th>\n",
       "      <td>           Demyansk Pocket</td>\n",
       "      <td> 1942</td>\n",
       "      <td> Soviet Union</td>\n",
       "      <td> Nazi Germany</td>\n",
       "      <td>     NaN</td>\n",
       "      <td>NaN</td>\n",
       "      <td> 130 000</td>\n",
       "      <td> 400 000</td>\n",
       "      <td> loss</td>\n",
       "    </tr>\n",
       "  </tbody>\n",
       "</table>\n",
       "<p>5 rows × 9 columns</p>\n",
       "</div>"
      ],
      "text/plain": [
       "                        Name  Year     Assaulter      Defender Assaulter_1  \\\n",
       "0           Baltic Operation  1941  Nazi Germany  Soviet Union         NaN   \n",
       "1  Battle of Bialystok–Minsk  1941  Nazi Germany  Soviet Union         NaN   \n",
       "2            Battle of Brody  1941  Nazi Germany  Soviet Union         NaN   \n",
       "3            Battle of Hanko  1941  Nazi Germany  Soviet Union     Finland   \n",
       "4            Demyansk Pocket  1942  Soviet Union  Nazi Germany         NaN   \n",
       "\n",
       "   Defender_1 Assaulter_strength Defender_strength Outcome  \n",
       "0         NaN            787 500           498 000     win  \n",
       "1         NaN            750 000           675 000     win  \n",
       "2         NaN                750              3500     win  \n",
       "3         NaN             25 300            30 000    loss  \n",
       "4         NaN            130 000           400 000    loss  \n",
       "\n",
       "[5 rows x 9 columns]"
      ]
     },
     "execution_count": 3,
     "metadata": {},
     "output_type": "execute_result"
    }
   ],
   "source": [
    "df.head(10)"
   ]
  },
  {
   "cell_type": "code",
   "execution_count": 4,
   "metadata": {
    "collapsed": false
   },
   "outputs": [
    {
     "name": "stdout",
     "output_type": "stream",
     "text": [
      "['Soviet Union', 'Nazi Germany']\n"
     ]
    }
   ],
   "source": [
    "#Create list of Assaulters\n",
    "assaulter_list = []\n",
    "\n",
    "for elem in df['Assaulter'].unique():\n",
    "    if type(elem) == str:\n",
    "        assaulter_list.append(elem)\n",
    "    else:\n",
    "        continue\n",
    "\n",
    "#Create list of Defenders\n",
    "defender_list = []\n",
    "\n",
    "for elem in df['Defender'].unique():\n",
    "    if type(elem) == str:\n",
    "        defender_list.append(elem)\n",
    "    else:\n",
    "        continue\n",
    "        \n",
    "print(defender_list)"
   ]
  },
  {
   "cell_type": "code",
   "execution_count": 5,
   "metadata": {
    "collapsed": false
   },
   "outputs": [],
   "source": [
    "#How many times has been successfully carried out the attack\n",
    "wins = []\n",
    "\n",
    "for elem in assaulter_list:\n",
    "    score = 0\n",
    "    for row in df['Assaulter'][df['Outcome'] == 'win']:\n",
    "        if elem in row:\n",
    "            score +=1\n",
    "        else:\n",
    "            continue\n",
    "    wins.append(score)\n",
    "\n",
    "data = {'Assaulter': assaulter_list,\n",
    "        'Win': wins}\n",
    "attack_win = pd.DataFrame(data)"
   ]
  },
  {
   "cell_type": "code",
   "execution_count": 12,
   "metadata": {
    "collapsed": false
   },
   "outputs": [],
   "source": [
    "#How many times has been unsuccessfully carried out the attack\n",
    "loss = []\n",
    "\n",
    "for elem in assaulter_list:\n",
    "    score = 0\n",
    "    for row in df['Assaulter'][df['Outcome'] == 'loss']:\n",
    "        if elem in row:\n",
    "            score +=1\n",
    "        else:\n",
    "            continue\n",
    "    loss.append(score)\n",
    "\n",
    "data = {'Assaulter': assaulter_list,\n",
    "        'Loss': loss}\n",
    "attack_loss = pd.DataFrame(data)"
   ]
  },
  {
   "cell_type": "code",
   "execution_count": 6,
   "metadata": {
    "collapsed": false
   },
   "outputs": [],
   "source": [
    "#How many times has been successfully carried out protection\n",
    "wins = []\n",
    "\n",
    "for elem in defender_list:\n",
    "    score = 0\n",
    "    for row in df['Defender'][df['Outcome'] == 'loss']:\n",
    "        if elem in row:\n",
    "            score +=1\n",
    "        else:\n",
    "            continue\n",
    "    wins.append(score)\n",
    "\n",
    "data = {'Defender': defender_list,\n",
    "        'Win': wins}\n",
    "protection_win = pd.DataFrame(data)"
   ]
  },
  {
   "cell_type": "code",
   "execution_count": 7,
   "metadata": {
    "collapsed": false
   },
   "outputs": [],
   "source": [
    "#How many times has been unsuccessfully carried out protection\n",
    "loss = []\n",
    "\n",
    "for elem in defender_list:\n",
    "    score = 0\n",
    "    for row in df['Defender'][df['Outcome'] == 'win']:\n",
    "        if elem in row:\n",
    "            score +=1\n",
    "        else:\n",
    "            continue\n",
    "    loss.append(score)\n",
    "\n",
    "data = {'Defender': defender_list,\n",
    "        'Loss': loss}\n",
    "protection_loss = pd.DataFrame(data)"
   ]
  },
  {
   "cell_type": "code",
   "execution_count": 16,
   "metadata": {
    "collapsed": false
   },
   "outputs": [],
   "source": [
    "# Create a dataframe\n",
    "battle_record = pd.DataFrame()\n",
    "\n",
    "# Count the total attacks\n",
    "battle_record['total_attacks'] = attack_win['Win'] + attack_loss['Loss']\n",
    "\n",
    "# Count the total defends\n",
    "battle_record['total_defends'] = protection_win['Win'] + protection_loss['Loss']\n",
    "\n",
    "# Count the total wins\n",
    "battle_record['total_wins'] = attack_win['Win'] + protection_win['Win']\n",
    "\n",
    "# Count the total losses\n",
    "battle_record['total_loss'] = attack_loss['Loss'] + protection_loss['Loss']\n",
    "\n",
    "# Create a total number of battles\n",
    "battle_record['total_battles'] = battle_record['total_attacks'] + battle_record['total_defends']\n",
    "\n",
    "# Create a win percentage score (total wins / total battles)\n",
    "battle_record['win_percentage'] = battle_record['total_wins'] / battle_record['total_battles'] * 100\n",
    "\n",
    "# Create a composite score (total number of wins minus total number of losses)\n",
    "battle_record['composite_record'] = battle_record['total_wins'] - battle_record['total_loss']"
   ]
  },
  {
   "cell_type": "markdown",
   "metadata": {},
   "source": [
    "# Analysis"
   ]
  },
  {
   "cell_type": "code",
   "execution_count": 17,
   "metadata": {
    "collapsed": false
   },
   "outputs": [
    {
     "data": {
      "text/plain": [
       "0    4\n",
       "1    1\n",
       "Name: total_attacks, dtype: int64"
      ]
     },
     "execution_count": 17,
     "metadata": {},
     "output_type": "execute_result"
    }
   ],
   "source": [
    "# Top 10 most active attackers\n",
    "battle_record.sort('total_attacks', ascending=False).head(10)['total_attacks']"
   ]
  },
  {
   "cell_type": "code",
   "execution_count": null,
   "metadata": {
    "collapsed": true
   },
   "outputs": [],
   "source": []
  }
 ],
 "metadata": {
  "kernelspec": {
   "display_name": "Python 3",
   "language": "python",
   "name": "python3"
  },
  "language_info": {
   "codemirror_mode": {
    "name": "ipython",
    "version": 3
   },
   "file_extension": ".py",
   "mimetype": "text/x-python",
   "name": "python",
   "nbconvert_exporter": "python",
   "pygments_lexer": "ipython3",
   "version": "3.4.3"
  }
 },
 "nbformat": 4,
 "nbformat_minor": 0
}
