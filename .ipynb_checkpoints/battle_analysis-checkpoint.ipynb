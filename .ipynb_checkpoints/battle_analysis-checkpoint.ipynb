{
 "cells": [
  {
   "cell_type": "markdown",
   "metadata": {
    "collapsed": true
   },
   "source": [
    "# Analysis of the Battles of the World War"
   ]
  },
  {
   "cell_type": "code",
   "execution_count": 3,
   "metadata": {
    "collapsed": true
   },
   "outputs": [],
   "source": [
    "import pandas as pd\n",
    "from ggplot import *\n",
    "%matplotlib inline\n",
    "import matplotlib.pyplot as plt\n",
    "\n",
    "# Set ipython's max row display\n",
    "pd.set_option('display.max_row', 1000)\n",
    "\n",
    "# Set iPython's max column width to 50\n",
    "pd.set_option('display.max_columns', 50)"
   ]
  },
  {
   "cell_type": "markdown",
   "metadata": {},
   "source": [
    "### Loading and quick glance at the data"
   ]
  },
  {
   "cell_type": "code",
   "execution_count": 4,
   "metadata": {
    "collapsed": false
   },
   "outputs": [
    {
     "data": {
      "text/html": [
       "<div>\n",
       "<table border=\"1\" class=\"dataframe\">\n",
       "  <thead>\n",
       "    <tr style=\"text-align: right;\">\n",
       "      <th></th>\n",
       "      <th>Name</th>\n",
       "      <th>Year</th>\n",
       "      <th>Location</th>\n",
       "      <th>Assaulter</th>\n",
       "      <th>Defender</th>\n",
       "      <th>Assaulter_1</th>\n",
       "      <th>Assaulter_2</th>\n",
       "      <th>Defender_1</th>\n",
       "      <th>As_strength_men</th>\n",
       "      <th>Def_strength_men</th>\n",
       "      <th>As_strength_guns</th>\n",
       "      <th>Def_strength_guns</th>\n",
       "      <th>Assaulter_losses</th>\n",
       "      <th>Defender_losses</th>\n",
       "      <th>Outcome</th>\n",
       "    </tr>\n",
       "  </thead>\n",
       "  <tbody>\n",
       "    <tr>\n",
       "      <th>0</th>\n",
       "      <td>Battle of Mons</td>\n",
       "      <td>1914.0</td>\n",
       "      <td>Mons, Belgium</td>\n",
       "      <td>German Empire</td>\n",
       "      <td>British Empire</td>\n",
       "      <td>NaN</td>\n",
       "      <td>NaN</td>\n",
       "      <td>NaN</td>\n",
       "      <td>160,000</td>\n",
       "      <td>80,000</td>\n",
       "      <td>600</td>\n",
       "      <td>300</td>\n",
       "      <td>5,000</td>\n",
       "      <td>1,638</td>\n",
       "      <td>win</td>\n",
       "    </tr>\n",
       "    <tr>\n",
       "      <th>1</th>\n",
       "      <td>Battle of Liege</td>\n",
       "      <td>1914.0</td>\n",
       "      <td>Liege, Belgium</td>\n",
       "      <td>German Empire</td>\n",
       "      <td>Belgium</td>\n",
       "      <td>NaN</td>\n",
       "      <td>NaN</td>\n",
       "      <td>NaN</td>\n",
       "      <td>59,800</td>\n",
       "      <td>36,000</td>\n",
       "      <td>400</td>\n",
       "      <td>280</td>\n",
       "      <td>25,000</td>\n",
       "      <td>15,000</td>\n",
       "      <td>win</td>\n",
       "    </tr>\n",
       "    <tr>\n",
       "      <th>2</th>\n",
       "      <td>Battle of the Frontiers</td>\n",
       "      <td>1914.0</td>\n",
       "      <td>Lorraine, the Ardennes and Belgium</td>\n",
       "      <td>Belgium</td>\n",
       "      <td>German Empire</td>\n",
       "      <td>France</td>\n",
       "      <td>British Empire</td>\n",
       "      <td>NaN</td>\n",
       "      <td>1,504,000</td>\n",
       "      <td>1,600,000</td>\n",
       "      <td>4,640</td>\n",
       "      <td>5,000</td>\n",
       "      <td>165,000</td>\n",
       "      <td>264,680</td>\n",
       "      <td>loss</td>\n",
       "    </tr>\n",
       "    <tr>\n",
       "      <th>3</th>\n",
       "      <td>Togoland Campaign</td>\n",
       "      <td>1914.0</td>\n",
       "      <td>German Togoland</td>\n",
       "      <td>British Empire</td>\n",
       "      <td>German Empire</td>\n",
       "      <td>France</td>\n",
       "      <td>NaN</td>\n",
       "      <td>NaN</td>\n",
       "      <td>1,100</td>\n",
       "      <td>693</td>\n",
       "      <td>NaN</td>\n",
       "      <td>NaN</td>\n",
       "      <td>137</td>\n",
       "      <td>41</td>\n",
       "      <td>win</td>\n",
       "    </tr>\n",
       "    <tr>\n",
       "      <th>4</th>\n",
       "      <td>Battle of Cer</td>\n",
       "      <td>1914.0</td>\n",
       "      <td>Cer Mountain</td>\n",
       "      <td>Austria-Hungary</td>\n",
       "      <td>Serbia</td>\n",
       "      <td>NaN</td>\n",
       "      <td>NaN</td>\n",
       "      <td>NaN</td>\n",
       "      <td>200,000</td>\n",
       "      <td>180,000</td>\n",
       "      <td>NaN</td>\n",
       "      <td>NaN</td>\n",
       "      <td>18,500</td>\n",
       "      <td>4,785</td>\n",
       "      <td>loss</td>\n",
       "    </tr>\n",
       "    <tr>\n",
       "      <th>5</th>\n",
       "      <td>Battle of Tannenberg</td>\n",
       "      <td>1914.0</td>\n",
       "      <td>Allenstein, East Prussia</td>\n",
       "      <td>Russian Empire</td>\n",
       "      <td>German Empire</td>\n",
       "      <td>NaN</td>\n",
       "      <td>NaN</td>\n",
       "      <td>NaN</td>\n",
       "      <td>230,000</td>\n",
       "      <td>150,000</td>\n",
       "      <td>NaN</td>\n",
       "      <td>NaN</td>\n",
       "      <td>170,000</td>\n",
       "      <td>13,873</td>\n",
       "      <td>loss</td>\n",
       "    </tr>\n",
       "    <tr>\n",
       "      <th>6</th>\n",
       "      <td>First Battle of the Marne</td>\n",
       "      <td>1914.0</td>\n",
       "      <td>Marne River, Paris</td>\n",
       "      <td>France</td>\n",
       "      <td>German Empire</td>\n",
       "      <td>British Empire</td>\n",
       "      <td>NaN</td>\n",
       "      <td>NaN</td>\n",
       "      <td>1,071,000</td>\n",
       "      <td>1,485,000</td>\n",
       "      <td>NaN</td>\n",
       "      <td>NaN</td>\n",
       "      <td>263,000</td>\n",
       "      <td>256,000</td>\n",
       "      <td>win</td>\n",
       "    </tr>\n",
       "    <tr>\n",
       "      <th>7</th>\n",
       "      <td>Battle of Drina</td>\n",
       "      <td>1914.0</td>\n",
       "      <td>Drina River</td>\n",
       "      <td>Austria-Hungary</td>\n",
       "      <td>Serbia</td>\n",
       "      <td>NaN</td>\n",
       "      <td>NaN</td>\n",
       "      <td>NaN</td>\n",
       "      <td>NaN</td>\n",
       "      <td>NaN</td>\n",
       "      <td>NaN</td>\n",
       "      <td>NaN</td>\n",
       "      <td>NaN</td>\n",
       "      <td>NaN</td>\n",
       "      <td>loss</td>\n",
       "    </tr>\n",
       "    <tr>\n",
       "      <th>8</th>\n",
       "      <td>First Battle of Ypres</td>\n",
       "      <td>1914.0</td>\n",
       "      <td>Ypres, Belgium</td>\n",
       "      <td>France</td>\n",
       "      <td>German Empire</td>\n",
       "      <td>Belgium</td>\n",
       "      <td>British Empire</td>\n",
       "      <td>NaN</td>\n",
       "      <td>4,400,000</td>\n",
       "      <td>5,400,000</td>\n",
       "      <td>NaN</td>\n",
       "      <td>NaN</td>\n",
       "      <td>58,155</td>\n",
       "      <td>46,765</td>\n",
       "      <td>indecisive</td>\n",
       "    </tr>\n",
       "    <tr>\n",
       "      <th>9</th>\n",
       "      <td>Siege of Tsingtao</td>\n",
       "      <td>1914.0</td>\n",
       "      <td>Tsingtau, Germany</td>\n",
       "      <td>British Empire</td>\n",
       "      <td>German Empire</td>\n",
       "      <td>Empire of Japan</td>\n",
       "      <td>NaN</td>\n",
       "      <td>Austria-Hungary</td>\n",
       "      <td>24,500</td>\n",
       "      <td>3,750</td>\n",
       "      <td>142</td>\n",
       "      <td>NaN</td>\n",
       "      <td>3,000</td>\n",
       "      <td>700</td>\n",
       "      <td>win</td>\n",
       "    </tr>\n",
       "  </tbody>\n",
       "</table>\n",
       "</div>"
      ],
      "text/plain": [
       "                        Name    Year                            Location  \\\n",
       "0             Battle of Mons  1914.0                       Mons, Belgium   \n",
       "1            Battle of Liege  1914.0                      Liege, Belgium   \n",
       "2    Battle of the Frontiers  1914.0  Lorraine, the Ardennes and Belgium   \n",
       "3          Togoland Campaign  1914.0                     German Togoland   \n",
       "4              Battle of Cer  1914.0                        Cer Mountain   \n",
       "5       Battle of Tannenberg  1914.0            Allenstein, East Prussia   \n",
       "6  First Battle of the Marne  1914.0                  Marne River, Paris   \n",
       "7            Battle of Drina  1914.0                         Drina River   \n",
       "8      First Battle of Ypres  1914.0                      Ypres, Belgium   \n",
       "9          Siege of Tsingtao  1914.0                   Tsingtau, Germany   \n",
       "\n",
       "         Assaulter        Defender      Assaulter_1     Assaulter_2  \\\n",
       "0    German Empire  British Empire              NaN             NaN   \n",
       "1    German Empire         Belgium              NaN             NaN   \n",
       "2          Belgium   German Empire           France  British Empire   \n",
       "3   British Empire   German Empire           France             NaN   \n",
       "4  Austria-Hungary          Serbia              NaN             NaN   \n",
       "5   Russian Empire   German Empire              NaN             NaN   \n",
       "6           France   German Empire   British Empire             NaN   \n",
       "7  Austria-Hungary          Serbia              NaN             NaN   \n",
       "8           France   German Empire          Belgium  British Empire   \n",
       "9   British Empire   German Empire  Empire of Japan             NaN   \n",
       "\n",
       "        Defender_1 As_strength_men Def_strength_men As_strength_guns  \\\n",
       "0              NaN         160,000           80,000              600   \n",
       "1              NaN          59,800           36,000              400   \n",
       "2              NaN       1,504,000        1,600,000            4,640   \n",
       "3              NaN           1,100              693              NaN   \n",
       "4              NaN         200,000          180,000              NaN   \n",
       "5              NaN         230,000          150,000              NaN   \n",
       "6              NaN       1,071,000        1,485,000              NaN   \n",
       "7              NaN             NaN              NaN              NaN   \n",
       "8              NaN       4,400,000        5,400,000              NaN   \n",
       "9  Austria-Hungary          24,500            3,750              142   \n",
       "\n",
       "  Def_strength_guns Assaulter_losses Defender_losses     Outcome  \n",
       "0               300            5,000           1,638         win  \n",
       "1               280           25,000          15,000         win  \n",
       "2             5,000          165,000         264,680        loss  \n",
       "3               NaN              137              41         win  \n",
       "4               NaN           18,500           4,785        loss  \n",
       "5               NaN          170,000          13,873        loss  \n",
       "6               NaN          263,000         256,000         win  \n",
       "7               NaN              NaN             NaN        loss  \n",
       "8               NaN           58,155          46,765  indecisive  \n",
       "9               NaN            3,000             700         win  "
      ]
     },
     "execution_count": 4,
     "metadata": {},
     "output_type": "execute_result"
    }
   ],
   "source": [
    "df = pd.read_csv('world_war.csv')\n",
    "df.head(10)"
   ]
  },
  {
   "cell_type": "markdown",
   "metadata": {},
   "source": [
    "### Which year had the most battles?"
   ]
  },
  {
   "cell_type": "code",
   "execution_count": 5,
   "metadata": {
    "collapsed": false
   },
   "outputs": [
    {
     "data": {
      "text/plain": [
       "1915.0    19\n",
       "1914.0    16\n",
       "1917.0     1\n",
       "Name: Year, dtype: int64"
      ]
     },
     "execution_count": 5,
     "metadata": {},
     "output_type": "execute_result"
    }
   ],
   "source": [
    "# Count the number of observations for each value\n",
    "df['Year'].value_counts()"
   ]
  },
  {
   "cell_type": "markdown",
   "metadata": {},
   "source": [
    "### What was the outcomes of all battles?"
   ]
  },
  {
   "cell_type": "code",
   "execution_count": 6,
   "metadata": {
    "collapsed": false
   },
   "outputs": [
    {
     "data": {
      "text/plain": [
       "<matplotlib.axes._subplots.AxesSubplot at 0x7fe261147278>"
      ]
     },
     "execution_count": 6,
     "metadata": {},
     "output_type": "execute_result"
    },
    {
     "data": {
      "image/png": "[encoded data removed]",
      "text/plain": [
       "<matplotlib.figure.Figure at 0x7fe261198f28>"
      ]
     },
     "metadata": {},
     "output_type": "display_data"
    }
   ],
   "source": [
    "# Count the number of observations for each value, then make a bar plot\n",
    "df['Outcome'].value_counts().plot(kind='bar')"
   ]
  },
  {
   "cell_type": "markdown",
   "metadata": {},
   "source": [
    "### Who more than anyone else attacked?"
   ]
  },
  {
   "cell_type": "code",
   "execution_count": 7,
   "metadata": {
    "collapsed": false
   },
   "outputs": [
    {
     "data": {
      "text/plain": [
       "<matplotlib.axes._subplots.AxesSubplot at 0x7fe261162748>"
      ]
     },
     "execution_count": 7,
     "metadata": {},
     "output_type": "execute_result"
    },
    {
     "data": {
      "image/png": "[encoded data removed]",
      "text/plain": [
       "<matplotlib.figure.Figure at 0x7fe261174400>"
      ]
     },
     "metadata": {},
     "output_type": "display_data"
    }
   ],
   "source": [
    "# Count the number of observations for each value, then make a bar plot\n",
    "df['Assaulter'].value_counts().plot(kind='bar')"
   ]
  },
  {
   "cell_type": "markdown",
   "metadata": {},
   "source": [
    "### Who was most active in the war?"
   ]
  },
  {
   "cell_type": "code",
   "execution_count": 8,
   "metadata": {
    "collapsed": false
   },
   "outputs": [
    {
     "data": {
      "text/plain": [
       "<matplotlib.axes._subplots.AxesSubplot at 0x7fe26108d278>"
      ]
     },
     "execution_count": 8,
     "metadata": {},
     "output_type": "execute_result"
    },
    {
     "data": {
      "image/png": "[encoded data removed]",
      "text/plain": [
       "<matplotlib.figure.Figure at 0x7fe2610983c8>"
      ]
     },
     "metadata": {},
     "output_type": "display_data"
    }
   ],
   "source": [
    "war_action = df['Assaulter'].value_counts() + df['Defender'].value_counts()\n",
    "war_action.fillna(1).plot(kind='bar')"
   ]
  },
  {
   "cell_type": "markdown",
   "metadata": {},
   "source": [
    "### Is there any relationship between troop size and battle outcome?"
   ]
  },
  {
   "cell_type": "code",
   "execution_count": null,
   "metadata": {
    "collapsed": true
   },
   "outputs": [],
   "source": []
  }
 ],
 "metadata": {
  "kernelspec": {
   "display_name": "Python 3",
   "language": "python",
   "name": "python3"
  },
  "language_info": {
   "codemirror_mode": {
    "name": "ipython",
    "version": 3
   },
   "file_extension": ".py",
   "mimetype": "text/x-python",
   "name": "python",
   "nbconvert_exporter": "python",
   "pygments_lexer": "ipython3",
   "version": "3.4.3"
  }
 },
 "nbformat": 4,
 "nbformat_minor": 0
}
