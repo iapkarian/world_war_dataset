{
 "cells": [
  {
   "cell_type": "markdown",
   "metadata": {
    "collapsed": true
   },
   "source": [
    "# Analysis of the Battles of the World War"
   ]
  },
  {
   "cell_type": "code",
   "execution_count": 28,
   "metadata": {
    "collapsed": true
   },
   "outputs": [],
   "source": [
    "import pandas as pd\n",
    "from ggplot import *\n",
    "%matplotlib inline\n",
    "import matplotlib.pyplot as plt\n",
    "\n",
    "# Set ipython's max row display\n",
    "pd.set_option('display.max_row', 1000)\n",
    "\n",
    "# Set iPython's max column width to 50\n",
    "pd.set_option('display.max_columns', 50)"
   ]
  },
  {
   "cell_type": "markdown",
   "metadata": {},
   "source": [
    "### Loading and quick glance at the data"
   ]
  },
  {
   "cell_type": "code",
   "execution_count": 73,
   "metadata": {
    "collapsed": false
   },
   "outputs": [
    {
     "data": {
      "text/html": [
       "<div style=\"max-height:1000px;max-width:1500px;overflow:auto;\">\n",
       "<table border=\"1\" class=\"dataframe\">\n",
       "  <thead>\n",
       "    <tr style=\"text-align: right;\">\n",
       "      <th></th>\n",
       "      <th>Name</th>\n",
       "      <th>Year</th>\n",
       "      <th>Assaulter</th>\n",
       "      <th>Defender</th>\n",
       "      <th>Assaulter_1</th>\n",
       "      <th>Defender_1</th>\n",
       "      <th>Assaulter_strength</th>\n",
       "      <th>Defender_strength</th>\n",
       "      <th>Outcome</th>\n",
       "    </tr>\n",
       "  </thead>\n",
       "  <tbody>\n",
       "    <tr>\n",
       "      <th>0</th>\n",
       "      <td>          Baltic Operation</td>\n",
       "      <td> 1941</td>\n",
       "      <td> Nazi Germany</td>\n",
       "      <td> Soviet Union</td>\n",
       "      <td>     NaN</td>\n",
       "      <td>NaN</td>\n",
       "      <td> 787500</td>\n",
       "      <td> 498000</td>\n",
       "      <td>  win</td>\n",
       "    </tr>\n",
       "    <tr>\n",
       "      <th>1</th>\n",
       "      <td> Battle of Bialystok–Minsk</td>\n",
       "      <td> 1941</td>\n",
       "      <td> Nazi Germany</td>\n",
       "      <td> Soviet Union</td>\n",
       "      <td>     NaN</td>\n",
       "      <td>NaN</td>\n",
       "      <td> 750000</td>\n",
       "      <td> 675000</td>\n",
       "      <td>  win</td>\n",
       "    </tr>\n",
       "    <tr>\n",
       "      <th>2</th>\n",
       "      <td>           Battle of Brody</td>\n",
       "      <td> 1941</td>\n",
       "      <td> Nazi Germany</td>\n",
       "      <td> Soviet Union</td>\n",
       "      <td>     NaN</td>\n",
       "      <td>NaN</td>\n",
       "      <td>    750</td>\n",
       "      <td>   3500</td>\n",
       "      <td>  win</td>\n",
       "    </tr>\n",
       "    <tr>\n",
       "      <th>3</th>\n",
       "      <td>           Battle of Hanko</td>\n",
       "      <td> 1941</td>\n",
       "      <td>      Finland</td>\n",
       "      <td> Soviet Union</td>\n",
       "      <td> Finland</td>\n",
       "      <td>NaN</td>\n",
       "      <td>  25300</td>\n",
       "      <td>  30000</td>\n",
       "      <td> loss</td>\n",
       "    </tr>\n",
       "    <tr>\n",
       "      <th>4</th>\n",
       "      <td>           Demyansk Pocket</td>\n",
       "      <td> 1942</td>\n",
       "      <td> Soviet Union</td>\n",
       "      <td> Nazi Germany</td>\n",
       "      <td>     NaN</td>\n",
       "      <td>NaN</td>\n",
       "      <td> 130000</td>\n",
       "      <td> 400000</td>\n",
       "      <td> loss</td>\n",
       "    </tr>\n",
       "  </tbody>\n",
       "</table>\n",
       "<p>5 rows × 9 columns</p>\n",
       "</div>"
      ],
      "text/plain": [
       "                        Name  Year     Assaulter      Defender Assaulter_1  \\\n",
       "0           Baltic Operation  1941  Nazi Germany  Soviet Union         NaN   \n",
       "1  Battle of Bialystok–Minsk  1941  Nazi Germany  Soviet Union         NaN   \n",
       "2            Battle of Brody  1941  Nazi Germany  Soviet Union         NaN   \n",
       "3            Battle of Hanko  1941       Finland  Soviet Union     Finland   \n",
       "4            Demyansk Pocket  1942  Soviet Union  Nazi Germany         NaN   \n",
       "\n",
       "   Defender_1  Assaulter_strength  Defender_strength Outcome  \n",
       "0         NaN              787500             498000     win  \n",
       "1         NaN              750000             675000     win  \n",
       "2         NaN                 750               3500     win  \n",
       "3         NaN               25300              30000    loss  \n",
       "4         NaN              130000             400000    loss  \n",
       "\n",
       "[5 rows x 9 columns]"
      ]
     },
     "execution_count": 73,
     "metadata": {},
     "output_type": "execute_result"
    }
   ],
   "source": [
    "df = pd.read_csv('world_war.csv')\n",
    "df.head(10)"
   ]
  },
  {
   "cell_type": "markdown",
   "metadata": {},
   "source": [
    "### Which year had the most battles?"
   ]
  },
  {
   "cell_type": "code",
   "execution_count": 6,
   "metadata": {
    "collapsed": false
   },
   "outputs": [
    {
     "data": {
      "text/plain": [
       "1941    4\n",
       "1942    1\n",
       "dtype: int64"
      ]
     },
     "execution_count": 6,
     "metadata": {},
     "output_type": "execute_result"
    }
   ],
   "source": [
    "# Count the number of observations for each value\n",
    "df['Year'].value_counts()"
   ]
  },
  {
   "cell_type": "markdown",
   "metadata": {},
   "source": [
    "### What was the outcomes of all battles?"
   ]
  },
  {
   "cell_type": "code",
   "execution_count": 7,
   "metadata": {
    "collapsed": false
   },
   "outputs": [
    {
     "data": {
      "text/plain": [
       "<matplotlib.axes.AxesSubplot at 0x7fde8cbe0fd0>"
      ]
     },
     "execution_count": 7,
     "metadata": {},
     "output_type": "execute_result"
    },
    {
     "data": {
      "image/png": "[encoded data removed]",
      "text/plain": [
       "<matplotlib.figure.Figure at 0x7fde8cbe0a58>"
      ]
     },
     "metadata": {},
     "output_type": "display_data"
    }
   ],
   "source": [
    "# Count the number of observations for each value, then make a bar plot\n",
    "df['Outcome'].value_counts().plot(kind='bar')"
   ]
  },
  {
   "cell_type": "markdown",
   "metadata": {},
   "source": [
    "### Who more than anyone else attacked?"
   ]
  },
  {
   "cell_type": "code",
   "execution_count": 8,
   "metadata": {
    "collapsed": false
   },
   "outputs": [
    {
     "data": {
      "text/plain": [
       "<matplotlib.axes.AxesSubplot at 0x7fde8ca0d828>"
      ]
     },
     "execution_count": 8,
     "metadata": {},
     "output_type": "execute_result"
    },
    {
     "data": {
      "image/png": "[encoded data removed]",
      "text/plain": [
       "<matplotlib.figure.Figure at 0x7fde8ca587b8>"
      ]
     },
     "metadata": {},
     "output_type": "display_data"
    }
   ],
   "source": [
    "# Count the number of observations for each value, then make a bar plot\n",
    "df['Assaulter'].value_counts().plot(kind='bar')"
   ]
  },
  {
   "cell_type": "markdown",
   "metadata": {},
   "source": [
    "### Who was most active in the war?"
   ]
  },
  {
   "cell_type": "code",
   "execution_count": 9,
   "metadata": {
    "collapsed": false
   },
   "outputs": [
    {
     "data": {
      "text/plain": [
       "<matplotlib.axes.AxesSubplot at 0x7fde8c8f9b70>"
      ]
     },
     "execution_count": 9,
     "metadata": {},
     "output_type": "execute_result"
    },
    {
     "data": {
      "image/png": "[encoded data removed]",
      "text/plain": [
       "<matplotlib.figure.Figure at 0x7fde8c8c0908>"
      ]
     },
     "metadata": {},
     "output_type": "display_data"
    }
   ],
   "source": [
    "war_action = df['Assaulter'].value_counts() + df['Defender'].value_counts()\n",
    "war_action.fillna(1).plot(kind='bar')"
   ]
  },
  {
   "cell_type": "markdown",
   "metadata": {},
   "source": [
    "### Is there any relationship between troop size and battle outcome?"
   ]
  },
  {
   "cell_type": "code",
   "execution_count": null,
   "metadata": {
    "collapsed": true
   },
   "outputs": [],
   "source": []
  }
 ],
 "metadata": {
  "kernelspec": {
   "display_name": "Python 3",
   "language": "python",
   "name": "python3"
  },
  "language_info": {
   "codemirror_mode": {
    "name": "ipython",
    "version": 3
   },
   "file_extension": ".py",
   "mimetype": "text/x-python",
   "name": "python",
   "nbconvert_exporter": "python",
   "pygments_lexer": "ipython3",
   "version": "3.4.3"
  }
 },
 "nbformat": 4,
 "nbformat_minor": 0
}
