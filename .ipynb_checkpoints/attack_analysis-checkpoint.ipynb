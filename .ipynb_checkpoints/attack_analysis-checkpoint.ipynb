{
 "cells": [
  {
   "cell_type": "code",
   "execution_count": 15,
   "metadata": {
    "collapsed": true
   },
   "outputs": [],
   "source": [
    "import pandas as pd\n",
    "from ggplot import *\n",
    "import numpy as np\n",
    "%matplotlib inline\n",
    "\n",
    "# Set ipython's max row display\n",
    "pd.set_option('display.max_row', 1000)\n",
    "\n",
    "# Set iPython's max column width to 50\n",
    "pd.set_option('display.max_columns', 50)"
   ]
  },
  {
   "cell_type": "code",
   "execution_count": 16,
   "metadata": {
    "collapsed": false
   },
   "outputs": [],
   "source": [
    "df = pd.read_csv('world_war.csv')"
   ]
  },
  {
   "cell_type": "markdown",
   "metadata": {},
   "source": [
    "### Quick glance at the data"
   ]
  },
  {
   "cell_type": "code",
   "execution_count": 17,
   "metadata": {
    "collapsed": false
   },
   "outputs": [
    {
     "data": {
      "text/html": [
       "<div>\n",
       "<table border=\"1\" class=\"dataframe\">\n",
       "  <thead>\n",
       "    <tr style=\"text-align: right;\">\n",
       "      <th></th>\n",
       "      <th>Name</th>\n",
       "      <th>Year</th>\n",
       "      <th>Assaulter</th>\n",
       "      <th>Defender</th>\n",
       "      <th>Assaulter_1</th>\n",
       "      <th>Defender_1</th>\n",
       "      <th>Assaulter_strength</th>\n",
       "      <th>Defender_strength</th>\n",
       "      <th>Outcome</th>\n",
       "    </tr>\n",
       "  </thead>\n",
       "  <tbody>\n",
       "    <tr>\n",
       "      <th>0</th>\n",
       "      <td>Baltic Operation</td>\n",
       "      <td>1941</td>\n",
       "      <td>Nazi Germany</td>\n",
       "      <td>Soviet Union</td>\n",
       "      <td>NaN</td>\n",
       "      <td>NaN</td>\n",
       "      <td>787500</td>\n",
       "      <td>498000</td>\n",
       "      <td>win</td>\n",
       "    </tr>\n",
       "    <tr>\n",
       "      <th>1</th>\n",
       "      <td>Battle of Bialystok–Minsk</td>\n",
       "      <td>1941</td>\n",
       "      <td>Nazi Germany</td>\n",
       "      <td>Soviet Union</td>\n",
       "      <td>NaN</td>\n",
       "      <td>NaN</td>\n",
       "      <td>750000</td>\n",
       "      <td>675000</td>\n",
       "      <td>win</td>\n",
       "    </tr>\n",
       "    <tr>\n",
       "      <th>2</th>\n",
       "      <td>Battle of Brody</td>\n",
       "      <td>1941</td>\n",
       "      <td>Nazi Germany</td>\n",
       "      <td>Soviet Union</td>\n",
       "      <td>NaN</td>\n",
       "      <td>NaN</td>\n",
       "      <td>750</td>\n",
       "      <td>3500</td>\n",
       "      <td>win</td>\n",
       "    </tr>\n",
       "    <tr>\n",
       "      <th>3</th>\n",
       "      <td>Battle of Hanko</td>\n",
       "      <td>1941</td>\n",
       "      <td>Finland</td>\n",
       "      <td>Soviet Union</td>\n",
       "      <td>Finland</td>\n",
       "      <td>NaN</td>\n",
       "      <td>25300</td>\n",
       "      <td>30000</td>\n",
       "      <td>loss</td>\n",
       "    </tr>\n",
       "    <tr>\n",
       "      <th>4</th>\n",
       "      <td>Demyansk Pocket</td>\n",
       "      <td>1942</td>\n",
       "      <td>Soviet Union</td>\n",
       "      <td>Nazi Germany</td>\n",
       "      <td>NaN</td>\n",
       "      <td>NaN</td>\n",
       "      <td>130000</td>\n",
       "      <td>400000</td>\n",
       "      <td>loss</td>\n",
       "    </tr>\n",
       "  </tbody>\n",
       "</table>\n",
       "</div>"
      ],
      "text/plain": [
       "                        Name  Year     Assaulter      Defender Assaulter_1  \\\n",
       "0           Baltic Operation  1941  Nazi Germany  Soviet Union         NaN   \n",
       "1  Battle of Bialystok–Minsk  1941  Nazi Germany  Soviet Union         NaN   \n",
       "2            Battle of Brody  1941  Nazi Germany  Soviet Union         NaN   \n",
       "3            Battle of Hanko  1941       Finland  Soviet Union     Finland   \n",
       "4            Demyansk Pocket  1942  Soviet Union  Nazi Germany         NaN   \n",
       "\n",
       "   Defender_1  Assaulter_strength  Defender_strength Outcome  \n",
       "0         NaN              787500             498000     win  \n",
       "1         NaN              750000             675000     win  \n",
       "2         NaN                 750               3500     win  \n",
       "3         NaN               25300              30000    loss  \n",
       "4         NaN              130000             400000    loss  "
      ]
     },
     "execution_count": 17,
     "metadata": {},
     "output_type": "execute_result"
    }
   ],
   "source": [
    "df.head(10)"
   ]
  },
  {
   "cell_type": "code",
   "execution_count": 18,
   "metadata": {
    "collapsed": false
   },
   "outputs": [],
   "source": [
    "#Create list of Assaulters\n",
    "assaulter_list = []\n",
    "\n",
    "for elem in df['Assaulter'].unique():\n",
    "    if type(elem) == str:\n",
    "        assaulter_list.append(elem)\n",
    "    else:\n",
    "        continue\n",
    "\n",
    "#Create list of Defenders\n",
    "defender_list = []\n",
    "\n",
    "for elem in df['Defender'].unique():\n",
    "    if type(elem) == str:\n",
    "        defender_list.append(elem)\n",
    "    else:\n",
    "        continue"
   ]
  },
  {
   "cell_type": "code",
   "execution_count": 49,
   "metadata": {
    "collapsed": false
   },
   "outputs": [
    {
     "data": {
      "text/plain": [
       "[0, 0, 3]"
      ]
     },
     "execution_count": 49,
     "metadata": {},
     "output_type": "execute_result"
    }
   ],
   "source": [
    "#Create a list of participants \n",
    "participants = []\n",
    "\n",
    "participants = set(assaulter_list + defender_list)\n",
    "\n",
    "#How many times has been successfully carried out the attack\n",
    "wins_at = []\n",
    "\n",
    "for elem in participants:\n",
    "    score = 0\n",
    "    for row in df['Assaulter'][df['Outcome'] == 'win']:\n",
    "        if elem in row:\n",
    "            score +=1\n",
    "        else:\n",
    "            continue\n",
    "    wins_at.append(score)\n",
    "\n",
    "data = {'Assaulter': list(participants),\n",
    "        'Win': wins_at}\n",
    "attack_win = pd.DataFrame(data)\n",
    "wins_at"
   ]
  },
  {
   "cell_type": "code",
   "execution_count": 44,
   "metadata": {
    "collapsed": false
   },
   "outputs": [],
   "source": [
    "#How many times has been unsuccessfully carried out the attack\n",
    "loss_at = []\n",
    "\n",
    "for elem in participants:\n",
    "    score = 0\n",
    "    for row in df['Assaulter'][df['Outcome'] == 'loss']:\n",
    "        if elem in row:\n",
    "            score +=1\n",
    "        else:\n",
    "            continue\n",
    "    loss_at.append(score)\n",
    "\n",
    "data = {'Assaulter': list(participants),\n",
    "        'Loss': loss_at}\n",
    "attack_loss = pd.DataFrame(data)"
   ]
  },
  {
   "cell_type": "code",
   "execution_count": 45,
   "metadata": {
    "collapsed": false
   },
   "outputs": [],
   "source": [
    "#How many times has been successfully carried out protection\n",
    "wins_pr = []\n",
    "\n",
    "for elem in participants:\n",
    "    score = 0\n",
    "    for row in df['Defender'][df['Outcome'] == 'loss']:\n",
    "        if elem in row:\n",
    "            score +=1\n",
    "        else:\n",
    "            continue\n",
    "    wins_pr.append(score)\n",
    "\n",
    "data = {'Defender': list(participants),\n",
    "        'Win': wins_pr}\n",
    "protection_win = pd.DataFrame(data)"
   ]
  },
  {
   "cell_type": "code",
   "execution_count": 46,
   "metadata": {
    "collapsed": false
   },
   "outputs": [
    {
     "data": {
      "text/plain": [
       "[0, 3, 0]"
      ]
     },
     "execution_count": 46,
     "metadata": {},
     "output_type": "execute_result"
    }
   ],
   "source": [
    "#How many times has been unsuccessfully carried out protection\n",
    "loss_pr = []\n",
    "\n",
    "for elem in participants:\n",
    "    score = 0\n",
    "    for row in df['Defender'][df['Outcome'] == 'win']:\n",
    "        if elem in row:\n",
    "            score +=1\n",
    "        else:\n",
    "            continue\n",
    "    loss_pr.append(score)\n",
    "\n",
    "data = {'Defender': list(participants),\n",
    "        'Loss': loss_pr}\n",
    "protection_loss = pd.DataFrame(data)\n"
   ]
  },
  {
   "cell_type": "code",
   "execution_count": 51,
   "metadata": {
    "collapsed": false
   },
   "outputs": [
    {
     "data": {
      "text/html": [
       "<div>\n",
       "<table border=\"1\" class=\"dataframe\">\n",
       "  <thead>\n",
       "    <tr style=\"text-align: right;\">\n",
       "      <th></th>\n",
       "      <th>attack_loss</th>\n",
       "      <th>attack_win</th>\n",
       "      <th>protection_loss</th>\n",
       "      <th>protection_win</th>\n",
       "    </tr>\n",
       "  </thead>\n",
       "  <tbody>\n",
       "    <tr>\n",
       "      <th>Finland</th>\n",
       "      <td>1</td>\n",
       "      <td>0</td>\n",
       "      <td>0</td>\n",
       "      <td>0</td>\n",
       "    </tr>\n",
       "    <tr>\n",
       "      <th>Soviet Union</th>\n",
       "      <td>1</td>\n",
       "      <td>0</td>\n",
       "      <td>3</td>\n",
       "      <td>1</td>\n",
       "    </tr>\n",
       "    <tr>\n",
       "      <th>Nazi Germany</th>\n",
       "      <td>0</td>\n",
       "      <td>3</td>\n",
       "      <td>0</td>\n",
       "      <td>1</td>\n",
       "    </tr>\n",
       "  </tbody>\n",
       "</table>\n",
       "</div>"
      ],
      "text/plain": [
       "              attack_loss  attack_win  protection_loss  protection_win\n",
       "Finland                 1           0                0               0\n",
       "Soviet Union            1           0                3               1\n",
       "Nazi Germany            0           3                0               1"
      ]
     },
     "execution_count": 51,
     "metadata": {},
     "output_type": "execute_result"
    }
   ],
   "source": [
    "#Dictionary\n",
    "data = {'attack_win': wins_at,\n",
    "        'attack_loss': loss_at,\n",
    "        'protection_win': wins_pr,\n",
    "        'protection_loss': loss_pr, }\n",
    "\n",
    "# Create a dataframe from the dictionary, indexed by a participant's name\n",
    "battle_record = pd.DataFrame(data,index=participants)\n",
    "battle_record"
   ]
  },
  {
   "cell_type": "code",
   "execution_count": 52,
   "metadata": {
    "collapsed": false
   },
   "outputs": [
    {
     "data": {
      "text/html": [
       "<div>\n",
       "<table border=\"1\" class=\"dataframe\">\n",
       "  <thead>\n",
       "    <tr style=\"text-align: right;\">\n",
       "      <th></th>\n",
       "      <th>attack_loss</th>\n",
       "      <th>attack_win</th>\n",
       "      <th>protection_loss</th>\n",
       "      <th>protection_win</th>\n",
       "      <th>total_attacks</th>\n",
       "      <th>total_defends</th>\n",
       "      <th>total_wins</th>\n",
       "      <th>total_loss</th>\n",
       "      <th>total_battles</th>\n",
       "      <th>win_percentage</th>\n",
       "      <th>composite_record</th>\n",
       "    </tr>\n",
       "  </thead>\n",
       "  <tbody>\n",
       "    <tr>\n",
       "      <th>Finland</th>\n",
       "      <td>1</td>\n",
       "      <td>0</td>\n",
       "      <td>0</td>\n",
       "      <td>0</td>\n",
       "      <td>1</td>\n",
       "      <td>0</td>\n",
       "      <td>0</td>\n",
       "      <td>1</td>\n",
       "      <td>1</td>\n",
       "      <td>0.0</td>\n",
       "      <td>-1</td>\n",
       "    </tr>\n",
       "    <tr>\n",
       "      <th>Soviet Union</th>\n",
       "      <td>1</td>\n",
       "      <td>0</td>\n",
       "      <td>3</td>\n",
       "      <td>1</td>\n",
       "      <td>1</td>\n",
       "      <td>4</td>\n",
       "      <td>1</td>\n",
       "      <td>4</td>\n",
       "      <td>5</td>\n",
       "      <td>20.0</td>\n",
       "      <td>-3</td>\n",
       "    </tr>\n",
       "    <tr>\n",
       "      <th>Nazi Germany</th>\n",
       "      <td>0</td>\n",
       "      <td>3</td>\n",
       "      <td>0</td>\n",
       "      <td>1</td>\n",
       "      <td>3</td>\n",
       "      <td>1</td>\n",
       "      <td>4</td>\n",
       "      <td>0</td>\n",
       "      <td>4</td>\n",
       "      <td>100.0</td>\n",
       "      <td>4</td>\n",
       "    </tr>\n",
       "  </tbody>\n",
       "</table>\n",
       "</div>"
      ],
      "text/plain": [
       "              attack_loss  attack_win  protection_loss  protection_win  \\\n",
       "Finland                 1           0                0               0   \n",
       "Soviet Union            1           0                3               1   \n",
       "Nazi Germany            0           3                0               1   \n",
       "\n",
       "              total_attacks  total_defends  total_wins  total_loss  \\\n",
       "Finland                   1              0           0           1   \n",
       "Soviet Union              1              4           1           4   \n",
       "Nazi Germany              3              1           4           0   \n",
       "\n",
       "              total_battles  win_percentage  composite_record  \n",
       "Finland                   1             0.0                -1  \n",
       "Soviet Union              5            20.0                -3  \n",
       "Nazi Germany              4           100.0                 4  "
      ]
     },
     "execution_count": 52,
     "metadata": {},
     "output_type": "execute_result"
    }
   ],
   "source": [
    "# Count the total attacks\n",
    "battle_record['total_attacks'] = battle_record['attack_win'] + battle_record['attack_loss']\n",
    "\n",
    "# Count the total defends\n",
    "battle_record['total_defends'] = battle_record['protection_win'] + battle_record['protection_loss']\n",
    "\n",
    "# Count the total wins\n",
    "battle_record['total_wins'] = battle_record['attack_win'] + battle_record['protection_win']\n",
    "\n",
    "# Count the total losses\n",
    "battle_record['total_loss'] = battle_record['attack_loss'] + battle_record['protection_loss']\n",
    "\n",
    "# Create a total number of battles\n",
    "battle_record['total_battles'] = battle_record['total_attacks'] + battle_record['total_defends']\n",
    "\n",
    "# Create a win percentage score (total wins / total battles)\n",
    "battle_record['win_percentage'] = battle_record['total_wins'] / battle_record['total_battles'] * 100\n",
    "\n",
    "# Create a composite score (total number of wins minus total number of losses)\n",
    "battle_record['composite_record'] = battle_record['total_wins'] - battle_record['total_loss']\n",
    "\n",
    "battle_record"
   ]
  },
  {
   "cell_type": "markdown",
   "metadata": {},
   "source": [
    "### Analysis"
   ]
  },
  {
   "cell_type": "code",
   "execution_count": 55,
   "metadata": {
    "collapsed": false
   },
   "outputs": [
    {
     "name": "stderr",
     "output_type": "stream",
     "text": [
      "/usr/local/lib/python3.4/dist-packages/ipykernel/__main__.py:2: FutureWarning: sort(columns=....) is deprecated, use sort_values(by=.....)\n",
      "  from ipykernel import kernelapp as app\n"
     ]
    },
    {
     "data": {
      "text/plain": [
       "Nazi Germany    3\n",
       "Finland         1\n",
       "Soviet Union    1\n",
       "Name: total_attacks, dtype: int64"
      ]
     },
     "execution_count": 55,
     "metadata": {},
     "output_type": "execute_result"
    }
   ],
   "source": [
    "#Top 10 most active assaulters\n",
    "battle_record.sort('total_attacks', ascending=False).head(10)['total_attacks']"
   ]
  },
  {
   "cell_type": "code",
   "execution_count": 56,
   "metadata": {
    "collapsed": false
   },
   "outputs": [
    {
     "data": {
      "text/plain": [
       "Soviet Union    4\n",
       "Nazi Germany    1\n",
       "Finland         0\n",
       "Name: total_defends, dtype: int64"
      ]
     },
     "execution_count": 56,
     "metadata": {},
     "output_type": "execute_result"
    }
   ],
   "source": [
    "#Top 10 most active defenders\n",
    "battle_record.sort_values('total_defends', ascending=False).head(10)['total_defends']"
   ]
  },
  {
   "cell_type": "code",
   "execution_count": 57,
   "metadata": {
    "collapsed": false
   },
   "outputs": [
    {
     "data": {
      "text/plain": [
       "Nazi Germany    4\n",
       "Soviet Union    1\n",
       "Finland         0\n",
       "Name: total_wins, dtype: int64"
      ]
     },
     "execution_count": 57,
     "metadata": {},
     "output_type": "execute_result"
    }
   ],
   "source": [
    "#Top 10 most victorious participants\n",
    "battle_record.sort_values('total_wins', ascending=False).head(10)['total_wins']"
   ]
  },
  {
   "cell_type": "code",
   "execution_count": 58,
   "metadata": {
    "collapsed": false
   },
   "outputs": [
    {
     "data": {
      "text/plain": [
       "Soviet Union    4\n",
       "Finland         1\n",
       "Nazi Germany    0\n",
       "Name: total_loss, dtype: int64"
      ]
     },
     "execution_count": 58,
     "metadata": {},
     "output_type": "execute_result"
    }
   ],
   "source": [
    "#Top 10 most losing participants\n",
    "battle_record.sort_values('total_loss', ascending=False).head(10)['total_loss']"
   ]
  },
  {
   "cell_type": "code",
   "execution_count": 60,
   "metadata": {
    "collapsed": false
   },
   "outputs": [
    {
     "data": {
      "text/plain": [
       "Nazi Germany    100.0\n",
       "Soviet Union     20.0\n",
       "Finland           0.0\n",
       "Name: win_percentage, dtype: float64"
      ]
     },
     "execution_count": 60,
     "metadata": {},
     "output_type": "execute_result"
    }
   ],
   "source": [
    "#Participants with the best win percentage\n",
    "battle_record.sort_values('win_percentage', ascending=False).head(75)['win_percentage'][battle_record['win_percentage'] != float('Inf')]"
   ]
  },
  {
   "cell_type": "markdown",
   "metadata": {},
   "source": [
    "### Сomparison of the three attackers"
   ]
  },
  {
   "cell_type": "code",
   "execution_count": null,
   "metadata": {
    "collapsed": true
   },
   "outputs": [],
   "source": [
    "nazi_germany = []\n",
    "soviet_union = []"
   ]
  }
 ],
 "metadata": {
  "kernelspec": {
   "display_name": "Python 3",
   "language": "python",
   "name": "python3"
  },
  "language_info": {
   "codemirror_mode": {
    "name": "ipython",
    "version": 3
   },
   "file_extension": ".py",
   "mimetype": "text/x-python",
   "name": "python",
   "nbconvert_exporter": "python",
   "pygments_lexer": "ipython3",
   "version": "3.4.3"
  }
 },
 "nbformat": 4,
 "nbformat_minor": 0
}
